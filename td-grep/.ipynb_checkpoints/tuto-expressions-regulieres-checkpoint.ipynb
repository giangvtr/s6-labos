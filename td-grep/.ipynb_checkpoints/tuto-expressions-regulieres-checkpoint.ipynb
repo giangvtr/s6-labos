{
 "cells": [
  {
   "cell_type": "markdown",
   "id": "fc8ad3d5-0541-4122-948a-1d3d062dfb18",
   "metadata": {},
   "source": [
    "# Recherche de texte et d'entrées, expressions régulières\n",
    "\n",
    "*Programmation système d'exploitation - Muriel Pressigout - V2024-04-05*"
   ]
  },
  {
   "cell_type": "markdown",
   "id": "731afdc1-8ffa-4594-8f17-e71d2f666f05",
   "metadata": {},
   "source": [
    "Ceci est un notebook, les cellules sont éditables. \n",
    "Une cellule commençant par \\$ est un texte qui correspond à une commande à tester dans le terminal. Vous pouvez copier-coller facilement les commandes demandées dans un terminal et y écrire vos résultats. C'est un sujet-feuille de réponse. "
   ]
  },
  {
   "cell_type": "markdown",
   "id": "74ce3a3c-8b39-4388-a73a-cf924bc74991",
   "metadata": {},
   "source": [
    "Pour exporter ce document en pdf : File -> Export Notebook as... -> PDF. \n",
    "\n",
    "NB : vous pouver ouvrir ce fichier dans un navigateur sous Google colab, ce qui permet de lire et écrire dans ce fichier sans installation au préalable. Cependant vous n'aurez pas l'export en pdf."
   ]
  },
  {
   "cell_type": "markdown",
   "id": "0e006e6c-2ae3-4763-abdc-e110939c87c3",
   "metadata": {},
   "source": [
    "Commencez par ouvrir un terminal dans le même répertoire que ce notebook.\n",
    "Testez :"
   ]
  },
  {
   "cell_type": "markdown",
   "id": "9a49da3e-05e0-4ca5-ad98-b70222e2ea19",
   "metadata": {},
   "source": [
    "``` $ ls ```"
   ]
  },
  {
   "cell_type": "markdown",
   "id": "2477a852-97ab-4924-82b0-775598e2625a",
   "metadata": {},
   "source": [
    "Vérifiez que vous avez bien les fichiers suivants dans le répertoire courant:\n",
    "* passwd\n",
    "* some-text.txt\n",
    "* tuto-expressions-regulieres.ipynb\n",
    "* auth.log"
   ]
  },
  {
   "cell_type": "markdown",
   "id": "46c28daf-6cef-4860-852c-7dfcd39bb2cc",
   "metadata": {},
   "source": [
    "## Contexte \n",
    "\n",
    "* Activité d'administration système (multi-utilisateur, réseau, distant, embarqué,...):\n",
    "    * manipulation de fichier de configuration\n",
    "        * lecture\n",
    "        * écriture\n",
    "    * exploitation de fichiers de log\n",
    "    *...\n",
    "    \n",
    "Face à un fichier en format texte, savoir rechercher une valeur ou un **motif** avec les outils/langages/concepts adéquats permet d'effectuer ces tâches avec une efficacité ++\n",
    "\n",
    "* Par généralisation, toute lecture/exploitation d'un fichier de données sera extrêmement rapide en exploitant la structure connue des données \n",
    "    * Recherche de motif existe sous python : module re \n",
    "    \n",
    "\n",
    "\n",
    "**Les expressions régulières sont par conséquent utiles, concises et génériques pour extraire des informations de textes comme du code, des données, des fichiers de log, des feuilles de calcul ou des documents.**"
   ]
  },
  {
   "cell_type": "markdown",
   "id": "cd2d0cc3-633b-49c3-bcd9-4a78bbae4b21",
   "metadata": {},
   "source": [
    "### Exemples \n",
    "\n",
    "\n",
    "* Recherche du motif \"you\" dans \"some-text.txt\" :"
   ]
  },
  {
   "cell_type": "markdown",
   "id": "cf65cbf8-1797-4908-b296-51a0f0514b95",
   "metadata": {},
   "source": [
    "``` $ grep \"you\" some-text.txt ```"
   ]
  },
  {
   "cell_type": "markdown",
   "id": "8394d53e-d1ed-43b9-93e4-a335381260a1",
   "metadata": {},
   "source": [
    "On obtient toutes les **lignes** où se trouve la chaîne de caractères \"you\", y compris donc celle avec le mot \"your\". Les **valeurs** (**occurences**) trouvées sont en gras et en couleur."
   ]
  },
  {
   "cell_type": "markdown",
   "id": "4e9e13d4-05a8-4ab5-9c5e-66b695144a42",
   "metadata": {},
   "source": [
    "Autre exemple sur un fichier de log, /var/log/auth.log. Il contient un historique des actions d'authentification sur Linux. Vous pouvez jeter un coup d'oeil au contenu :"
   ]
  },
  {
   "cell_type": "markdown",
   "id": "b18d59e4-424f-4d3f-b62f-b20bf4b33dbd",
   "metadata": {},
   "source": [
    "``` $ sudo cat /var/log/auth.log ```"
   ]
  },
  {
   "cell_type": "markdown",
   "id": "d37127d2-4c7b-44f4-85a2-3643fc920919",
   "metadata": {},
   "source": [
    "Comme il est protégé, une copie d'un tel fichier est fourni. Vous pouvez vérifier son contenu :"
   ]
  },
  {
   "cell_type": "markdown",
   "id": "dd5b4096-bb0d-473f-bbc2-00c34a963a1d",
   "metadata": {},
   "source": [
    "``` $ cat auth.log ```"
   ]
  },
  {
   "cell_type": "markdown",
   "id": "250efb1d-1aa9-47c4-ac5e-dba2aa28ed18",
   "metadata": {},
   "source": [
    "Si on veut voir toutes les informations liées au compte eii, on peut utiliser grep:"
   ]
  },
  {
   "cell_type": "markdown",
   "id": "7313a293-3aa2-4c9f-827a-59f3d85e8af4",
   "metadata": {},
   "source": [
    "``` $ grep \"eii\" auth.log ```"
   ]
  },
  {
   "cell_type": "markdown",
   "id": "c8aa73e7-4a7b-47ad-be11-e8911695a058",
   "metadata": {},
   "source": [
    "Si on veut affiner notre recherche pour n'avoir que les ouvertures de session de eii:"
   ]
  },
  {
   "cell_type": "markdown",
   "id": "bc1d0177-e4ff-4336-a033-c2531acbd2aa",
   "metadata": {},
   "source": [
    "``` $ grep \"session opened for user eii\" /var/log/auth.log ```"
   ]
  },
  {
   "cell_type": "markdown",
   "id": "39a5533e-df64-4da7-906c-f097a0403277",
   "metadata": {},
   "source": [
    "Et enfin, on veut finalement avoir les jours où une session où eii a ouvert une session, sans doublon:"
   ]
  },
  {
   "cell_type": "markdown",
   "id": "5968d025-708c-4ca8-8cde-a1b4d03e4ca4",
   "metadata": {},
   "source": [
    "``` $ grep \"session opened for user eii\" auth.log | grep -oE \"^[^[:space:]]+[[:space:]]+[0-9]{1,2}\" |sort |uniq ```"
   ]
  },
  {
   "cell_type": "markdown",
   "id": "972ee587-ef8d-4e3d-8453-aa62ecd39150",
   "metadata": {},
   "source": [
    "Les expression régulières peuvent être un des outils pour détecter des anomalies sur un système. Par exemple, vous pouvez analyser régulièrement le fichier auth.log pour voir si quelqu'un est en train d'essayer de se logger en admin et de craquer le mot de passe. Dans ce cas, on va chercher le message type d'erreur, par exemple \"incorrect password\" ou \"authentication failure\":"
   ]
  },
  {
   "cell_type": "markdown",
   "id": "e3c52b01-9fc3-4337-8c89-4213c4d157f0",
   "metadata": {},
   "source": [
    "``` $ grep -E \"(incorrect password)|(authentication failure)\" auth.log ```"
   ]
  },
  {
   "cell_type": "markdown",
   "id": "5725400e-bf1c-4feb-a626-e3b74f869ea4",
   "metadata": {},
   "source": [
    "L'idée est ensuite de faire remonter le résultat de cette analyse à intervalle régulier à une application qui monitore la sécurité d'un serveur par exemple. Vous pouvez regarder après la séance un type de réalisation ici : [https://betterstack.com/community/guides/logging/monitoring-linux-auth-logs/](#https://betterstack.com/community/guides/logging/monitoring-linux-auth-logs/)"
   ]
  },
  {
   "cell_type": "markdown",
   "id": "6b840299-8afe-47a3-ac55-bc64f21eb1e9",
   "metadata": {},
   "source": [
    "Le but de cette séance est qu'à a la fin vous comprenez cette dernière ligne et que vous soyez capable d'écrire ce genre de recherche.\n",
    "Pour cela, on va d'abord voir ce qu'est une expression régulière, sa syntaxe et son usage avec la commande grep. Puis ensuite on verra comment combiner une commande grep avec d'autres commandes. Il y a 3 exercices au fur et à mesure de la progression pour valider les acquis.\n",
    "\n",
    "\n",
    "**EVAL** : cette partie sera évaluée au DS TP en testant  votre capacité à former une expression régulière pour filtrer un texte en utilisant la commande grep et les autres commandes utiles vu dans ce CM-TD."
   ]
  },
  {
   "cell_type": "markdown",
   "id": "4187b57b-bcba-40bd-86fc-9ec190d360e1",
   "metadata": {},
   "source": [
    "<div id='regex'/>\n",
    "\n",
    "## Regex\n",
    "\n",
    "regex = diminutif d'**expressions regulières**\n",
    "\n",
    "\n",
    "### Definitions\n",
    "\n",
    "**Expression régulière** = **motif**(pattern) correspondant (matching) à un **ensemble** de chaînes de caractères recherchées.\n",
    "\n",
    "Pour avoir uniquement le mot \"you\", le motif à appliquer préciserait qu'il ne faut aucune lettre devant ni derrière la chaîne de caractère \"you\" (on ne vous demande pas de comprendre l'expression régulière pour l'instant). Vous pouvez vérifier la différence :"
   ]
  },
  {
   "cell_type": "markdown",
   "id": "0b4d87e8-8e8b-434d-a786-b563e581c74e",
   "metadata": {},
   "source": [
    "``` $ grep \"you\" some-text.txt ```\n",
    "\n",
    "``` $ grep \"\\byou\\b\" some-text.txt ```"
   ]
  },
  {
   "cell_type": "markdown",
   "id": "b556c80c-116a-4178-aa38-721fc7f17698",
   "metadata": {},
   "source": [
    "Le motif représentant l'expression régulière \"you\" est \"you\" et celui représentant le mot \"you\" est \"\\byou\\b\". Il faut donc lire attentivement les consignes &#x1F600; Et comme souvent, il y a plusieurs solutions, l'essentiel c'est que vous trouviez votre façon de faire en vous inspirant des bonnes pratiques. \n",
    "De manière générale, il faut réflechir à ce que l'on veut trouver mais aussi à ce que l'on ne veut pas trouver."
   ]
  },
  {
   "cell_type": "markdown",
   "id": "643ee67e-7dd4-4f77-9a8d-b40a10968ef3",
   "metadata": {},
   "source": [
    "Les **métacaractères** sont des caractères qui jouent un rôle autre que leur signification ASCII. Dans l'exemple du haut, le caractère 'b' est utilisé dans l'expression régulière mais pour autre chose que le caractère ASCII 'b'. On verra plus tard  les détails mais grâce à eux, \"\\b\" veut dire \"détecter la limite d'un début de mot\". La représentation exhaustive de toutes les combinaisons à éviter (chiffre, ponctuation, espaces,...) serait plus long, voire difficile dans certains cas.\n",
    "**On utilisera l'option -E de grep pour que tous les métacaractères jouent leur rôle de métacaractères par défaut.**"
   ]
  },
  {
   "cell_type": "markdown",
   "id": "db0965a6-d22c-4267-b38e-41b0f2e994f1",
   "metadata": {},
   "source": [
    "### Commande-grep "
   ]
  },
  {
   "cell_type": "markdown",
   "id": "18d8f5df-6fbd-4ef0-bdbd-439a9e488d39",
   "metadata": {},
   "source": [
    "Dans les exemples utilisés précédement, la commande lancée est `grep`. C'est la commande sous Linux qui prend en argument un motif et va le chercher soit sur la sortie standard ou le cas échéant dans le nom de fichier donné en paramètre:"
   ]
  },
  {
   "cell_type": "markdown",
   "id": "7e5a2de2-619c-4572-99f8-4b1d38ecead3",
   "metadata": {},
   "source": [
    "``` $ man grep```"
   ]
  },
  {
   "cell_type": "markdown",
   "id": "8009d68c-4271-460f-9201-b5ee4d2d5025",
   "metadata": {},
   "source": [
    "Il y a des options à cette commande qui sont rapidement utiles:"
   ]
  },
  {
   "cell_type": "markdown",
   "id": "7f91b488-7372-4f1f-8b97-c037b1ca52df",
   "metadata": {},
   "source": [
    "* -c : donne le nombre de lignes avec au moins une occurence trouvée\n",
    "* -r : recherche récursive sur le répertoire courant\n",
    "* -o : n'affiche que les occurences trouvées\n",
    "* -i : ignore la casse\n",
    "* -n : ajoute le numéro de la ligne où l'occurence est trouvée\n",
    "* -E : permet d'utiliser les métacaractères facilement (quasi obligatoire dès qu'on les utilise)"
   ]
  },
  {
   "cell_type": "markdown",
   "id": "9a48a0fb-427b-4ead-851b-19b6d3eadad0",
   "metadata": {},
   "source": [
    "Testez :"
   ]
  },
  {
   "cell_type": "markdown",
   "id": "1676163e-57c9-4bcf-a607-ca416e30ce3e",
   "metadata": {},
   "source": [
    "``` $ grep \"sudo\" auth.log```\n",
    "\n",
    "``` $ grep \"sudo\" auth.log -n```\n",
    "\n",
    "``` $ grep \"sudo\" auth.log -c```\n",
    "\n",
    "``` $ grep \"sudo\" -r -n```\n",
    "\n",
    "``` $ grep \"sudo\" -r -n -c ```\n",
    "\n",
    "``` $ grep \"pwd\" auth.log ```\n",
    "\n",
    "``` $ grep \"pwd\" auth.log -i```"
   ]
  },
  {
   "cell_type": "markdown",
   "id": "b4027ea8-50ff-4d5b-bc74-103b272d28d7",
   "metadata": {},
   "source": [
    "**Conseil** : vérifier la sortie de votre commande grep avant d'y ajouter une option, surtout l'option -c "
   ]
  },
  {
   "cell_type": "markdown",
   "id": "0fd34fea-d3a1-4322-902c-b0d6919d5ead",
   "metadata": {},
   "source": [
    "### Construction\n",
    "\n",
    "\n",
    "Une expression réulière se construit à partir de briques de base que sont les ERA (Expression Régulière Atomique) qui peuvent être combinées : \n",
    "* concaténation\n",
    "* répétition\n",
    "* alternative\n",
    "* références arrière\n",
    "\n",
    "On peut aussi spécifier leur place dans la ligne de texte grâce aux ancres de début et fin de ligne.\n",
    "\n",
    "Tout ceci est décrit par la suite, avec des exercices pour pratiquer."
   ]
  },
  {
   "cell_type": "markdown",
   "id": "720c1361-e007-4789-bfbf-41f4bd6bdbb1",
   "metadata": {},
   "source": [
    "#### ERA"
   ]
  },
  {
   "cell_type": "markdown",
   "id": "5ea67938-aceb-4d0e-a069-4076c2edd3f7",
   "metadata": {},
   "source": [
    "La brique de base est une **ERA** (Expression Régulière Atomique) = un caractères parmi ces possibilités :\n",
    "\n",
    "1. un caractère de base:\n",
    "\n",
    "|ERA|Exemple|Caractère possible|\n",
    "|:--|:--|:--|\n",
    "|Un caractère ASCII | A | La lettre A|\n",
    "| . | . | N'importe quel caractère|\n",
    "|Un caractère parmi un ensemble | [abc] | le caractère a **OU** b **OU** c|\n",
    "|Exclusion d'un ensemble | [^abc] | Tout caractère sauf a ou b ou c|\n",
    "|Tout caractère dans un intervalle | [a-z] | Une lettre alphabétique minuscule|\n",
    "|Exclusion d'un intervalle | [^a-z] | Tout sauf une lettre alpha. minuscule|"
   ]
  },
  {
   "cell_type": "markdown",
   "id": "af41acf2-cccb-45a3-90d6-383abd2d314b",
   "metadata": {},
   "source": [
    "2. un caractère appartenant à une de ces classes de caractères:\n",
    "\n",
    "|Classe|Caractère possible|\n",
    "|:--|:--|\n",
    "|[:lower:] | une lettre minuscule|\n",
    "|[:upper:] | une lettre majuscule |\n",
    "|[:alpha:] | un alphabétique: [:lower:] and [:upper:]|\n",
    "|[:digit:] | un digit = [0-9]|\n",
    "|[:alnum:] | un alphanumérique: [:alpha:] and [:digit:]|\n",
    "|[:punct:] | un caractère de ponctuation| \n",
    "|[:graph:] | un caractère graphique: [:alnum:] and [:punct:] |\n",
    "|[:blank:] | espace ou tab|\n",
    "|[:space:] | [:blank:] + special caracters used in C for space characters : \\t,\\n,\\r|\n",
    "|[:print:] | un caractère imprimable :[:graph:] and [:space:] |\n",
    "|[:cntrl:] | un caractère de contrôle (début de la table ASCII, char<32)| \n",
    "|[:xdigit:] | un digit en hexadecimal = [0-9A-Fa-f]|\n",
    "\n",
    "Attention, suivant l'encodage, [:lower:] n'est pas équivalent à [a-z], par exemple pour la prise en compte des accents.\n",
    "\n",
    "Les métacaractères perdent leur caractère spécial à l'intérieur des crochets []:\n",
    "* Pour inclure le caractère ] dans un ensemble, le mettre au début, par ex : []a-z] veur dire tout caractère de a à z ainsi que ]\n",
    "* Pour inclure le caractère - dans un ensemble, le mettre à la fin, par ex : [a-z-] veur dire tout caractère de a à z ainsi que -\n",
    "* Pour inclure le caractère ^ dans un ensemble, le mettre partotu sauf au début, par ex : [^a-z^] veur dire tout caractère sauf (les caractères de a à z et ^)"
   ]
  },
  {
   "cell_type": "markdown",
   "id": "f740a516-b4cd-49ad-bbf3-7428eb60acec",
   "metadata": {},
   "source": [
    "3. PCRE\n",
    "Certaines classes de caractères permettent d'écrire plus facilement certaines expressions. Ce sont les PCRE (Perl Compatible regular Expression), que l'on retrouve dans pleins de langages scripts, dont Python:\n",
    "\n",
    "|Classe|Caractère possible|\n",
    "|:--|:--|\n",
    "|\\< | correspond à la chaîne vide au début d'un mot|\n",
    "|\\> | correspond à la chaîne vide à la fin d'un mot|\n",
    "|\\b | correspond à une chaîne vide près d'un mot (limite d'un mot)|\n",
    "|\\B| correspond à uen chaîne pas à c$oté d'un mot (limite de quelquechose qui n'est pas un mot) |\n",
    "|\\w | un caractère dans un mot. Equivalent à [_[:alnum:]]| \n",
    "|\\W | un caractère qui n'est pas dans un mot.  Equivalent à [^_[:alnum:]]|\n",
    "|\\s | un blanc. Equivalentà [:space:]| \n",
    "|\\S | tout sauf un blanc.  Equivalent à [^[:space:]]|\n",
    "\n",
    "Comme leur présence se retrouve dans d'autres outils de script, essayez de privilégier leur utilisation quand vous avez le choix entre plusieurs écritures."
   ]
  },
  {
   "cell_type": "markdown",
   "id": "401341af-5de9-441e-ad0d-b2cea59eb725",
   "metadata": {},
   "source": [
    "4. autres caractères spéciaux :\n",
    "\n",
    "|Caractère spécial|Signification|\n",
    "|:--|:--|\n",
    "|\\0 | le caractère \\<null\\>\n",
    "|\\\\a | le caractère \\<bell\\>\n",
    "|\\\\b | le caractère \\<backspace\\>\n",
    "|\\\\f | le caractère \\<form-feed\\> \n",
    "|\\\\n | le caractère \\<new-line\\>\n",
    "|\\\\r | le caractère \\<carriage-return\\>\n",
    "|\\\\t | le caractère \\<tab\\>\n",
    "|\\\\v | le caractère \\<vertical-tab\\>\n",
    "|\\\\013 | le caractère dont le code ASCII est 013 en octal\n",
    "\n",
    "\n",
    "Comme en C, le caractère \\\\ sert à changer le rôle d'un caractère (on dit échapper un caractère). Par exemple \\\\. permet d'obtenir le caractère ASCII '.' alors que par défaut il s'agit du métacaractère qui remplace n'importe quel caractère.\n",
    "\n",
    "Testez :"
   ]
  },
  {
   "cell_type": "markdown",
   "id": "eabc14bc-f5c9-439f-acac-5154626fd348",
   "metadata": {},
   "source": [
    "```$ grep -E \".\" some-text.txt ```\n",
    "\n",
    "``` $ grep -E \"\\.\" some-text.txt ```"
   ]
  },
  {
   "cell_type": "markdown",
   "id": "e36b97c5-898e-4a15-9cc0-227be7964f04",
   "metadata": {
    "tags": []
   },
   "source": [
    "#### Concatenation "
   ]
  },
  {
   "cell_type": "markdown",
   "id": "a995bcd9-4fe1-4085-a29f-66f1dacb23e6",
   "metadata": {},
   "source": [
    "**Concaténation** d'expressions: mettre les expressions les unes à la suite des autres\n",
    "\n",
    "##### Exemples :\n",
    "\n",
    "\n",
    "|Expression régulière|Signification|Chaînes de caractères correspondantes|\n",
    "|:--|:--|:--|\n",
    "|abc | la chaîne de 3 caractères \"abc\"| 1 seule possibilité : \"abc\" |\n",
    "|[Oo]ui | le mot  \"oui\", initiale en maj ou non| 2 possibilités : \"oui\", \"Oui\"|\n",
    "|[a-z][0-9] | une minuscule puis un digit|260 combinaisons : a0,...a9,b0,...,z9|\n",
    "|[a-z][0-9]. | une minuscule, un digit puis un quelconque | a0a, a02, a0!, ...|"
   ]
  },
  {
   "cell_type": "markdown",
   "id": "71828162-2018-43ad-a66f-c0d84b90f829",
   "metadata": {},
   "source": [
    "#### Repetition\n",
    "\n"
   ]
  },
  {
   "cell_type": "markdown",
   "id": "33210fac-1ca4-4a32-b896-895d90d610f6",
   "metadata": {},
   "source": [
    "On peut faire une **répétition** d'un item:\n",
    "\n",
    "|Motif | Correspondance|\n",
    "|:--|:--|\n",
    "| ? | L’item précédent est optionnel et si présent : **au plus une fois**|\n",
    "| * |L’item précédent est présent **zéro fois ou plusieurs fois**|\n",
    "| + | L’item précédent est présent **au moins une fois ou plus**|\n",
    "| {n} |L’item précédent est présent **n fois exactement**|\n",
    "| {n,} |L’item précédent est présent **n fois ou plus**|\n",
    "| {,m} | L’item précédent est présent **m fois au plus**|\n",
    "| {n,m} | L’item précédent est présent **entre n et m fois**|\n",
    "\n",
    "On peut parenthèser l'item que l'on veut répéter."
   ]
  },
  {
   "cell_type": "markdown",
   "id": "6e8aa273-7967-4eb7-b0ec-7c6f6df3cb36",
   "metadata": {},
   "source": [
    "Exemples:\n",
    "\n",
    "|Motif |Correspondance(s)|\n",
    "|:--|:--|\n",
    "| abc | la chaîne abc |\n",
    "| a\\\\. | la chaîne de 2 caractères a. |\n",
    "| a. | une chaîne de 2 caractères commençant par a |\n",
    "| a? | chaîne vide ou la chaîne a |\n",
    "| a+ | la chaîne aa ou  aaa ou  aaaa ou aaaaaaaaaaaaaaaaaaaaaaaaaaa ....|\n",
    "| a* | chaîne vide ou aa ou aaa ou aaaa ou aaaaaaaaaaaaaaaaaaaaaaaaaaa .... |\n",
    "| a{2} | la chaîne aa |\n",
    "| a{2,5} | la chaîne aa ou la chaîne aaa ou la chaîne aaaa ou la chaîne aaaaa|\n",
    "| [ab]{2} | la chaîne aa ou la chaîne ab ou la chaîne ba ou la chaîne bb |\n",
    "| ab{2} | la chaîne abb |\n",
    "| (ab){2} | la chaîne abab |\n",
    "\n"
   ]
  },
  {
   "cell_type": "markdown",
   "id": "008b8cb5-14b0-4de0-ad50-3824a9f90e28",
   "metadata": {},
   "source": [
    "Autre exemple : voici la commande pour chercher dans le fichier some-text.txt toutes les lignes où il y a **un mot suivi d'une ponctuation**. Attention, il peut y avoir un ou plusieurs espaces entre le mots et le caractère de ponctuation."
   ]
  },
  {
   "cell_type": "markdown",
   "id": "3c362985-e178-4aeb-a163-9c593abf529f",
   "metadata": {},
   "source": [
    "``` $ grep -E \"[[:alpha:]]+[[:space:]]*[[:punct:]]\" some-text.txt ```"
   ]
  },
  {
   "cell_type": "markdown",
   "id": "8072cbbd-235a-422d-9e79-ae9416764d5a",
   "metadata": {},
   "source": [
    "Pour n'avoir que les mots suivis d'un symbole de ponctuation, avec éventuellement un ou plusieurs espaces entre, il faut enchainer 2 grep avec l'option -o: le premier pour avoir les mots avec la ponctuation puis juste le mot. Cela donne :\n"
   ]
  },
  {
   "cell_type": "markdown",
   "id": "6401c4c6-6294-4d28-9e81-d59ae9fc648d",
   "metadata": {},
   "source": [
    "``` $ grep -E \"[[:alpha:]]+[[:space:]]*[[:punct:]]\" some-text.txt -o | grep -E \"[[:alpha:]]+\" -o ```"
   ]
  },
  {
   "cell_type": "markdown",
   "id": "60ed4496-7b57-4ae7-8d8b-c12bd5ef553a",
   "metadata": {},
   "source": [
    "Il y a une redirection d'E/S : le 2eme grep prend en entrée le résultat du premier grep. Une bonne habitude est de décomposer le problème : regarder ce que fait le 1er grep puis lui rajouter un traitement derrière si nécessaire."
   ]
  },
  {
   "cell_type": "markdown",
   "id": "f0582823-79da-40a6-81af-5b89404596ef",
   "metadata": {},
   "source": [
    "#### Alternative"
   ]
  },
  {
   "cell_type": "markdown",
   "id": "cf660d22-45b9-4580-b0a7-dcffc8bf809b",
   "metadata": {},
   "source": [
    "Syntaxe de l'**alternative** entre 2 expressions: ceci | cela\n",
    "\n",
    "\n",
    "Exemples:\n",
    " * (linux)|(unix): le mot linux ou le mot unix\n",
    " * [A-Z]{8}|[0-9]{4} : 8 lettres majuscules ou 4 chiffres"
   ]
  },
  {
   "cell_type": "markdown",
   "id": "c8ec6460-3d45-48ec-a786-50e28659d7b0",
   "metadata": {},
   "source": [
    "#### Exercice-1"
   ]
  },
  {
   "cell_type": "markdown",
   "id": "a517dcad-e08b-40a2-9028-a0ee5211dc18",
   "metadata": {},
   "source": [
    "Avant de continuer sur les possibilités des expression régulières, voici un exercice sur le fichier \"some-text.txt\"."
   ]
  },
  {
   "cell_type": "markdown",
   "id": "3ba354e6-4ec9-4d23-ab52-4e992bff96ba",
   "metadata": {},
   "source": [
    "Ecrire la commande grep qui donne :\n",
    "* Toutes les lignes avec un mot d'au moins 7 lettres (vous devriez trouver 24 lignes)"
   ]
  },
  {
   "cell_type": "markdown",
   "id": "2da76ee7-6e1d-4254-91e8-9596633673aa",
   "metadata": {},
   "source": [
    "Réponse : ```grep -E \"\\b[a-zA-Z]{7,}\\b\" some-text.txt ``` (-c to count number of lines)"
   ]
  },
  {
   "cell_type": "markdown",
   "id": "76141553-fbc3-4f04-a983-c842442c2852",
   "metadata": {},
   "source": [
    "* Tous les mots d'au moins 7 lettres (vous devriez en trouver 37)"
   ]
  },
  {
   "cell_type": "markdown",
   "id": "3d38f823-ce6f-4ddb-b9d3-9eeafe509488",
   "metadata": {},
   "source": [
    "Réponse : ```grep -E \"\\b[a-zA-Z]{7,}\\b\" some-text.txt -o``` (-o|wc for counting words)"
   ]
  },
  {
   "cell_type": "markdown",
   "id": "cf2e621f-673e-4625-bedb-afa24977e658",
   "metadata": {},
   "source": [
    "Conclusion : grep -c counts the number of lines with a matched texts but it does not count not the number of matched texts. For this, you should use grep -o |wc"
   ]
  },
  {
   "cell_type": "markdown",
   "id": "e3c67397-88c8-4339-974b-b187462a13fe",
   "metadata": {},
   "source": [
    "* Toutes les lignes avec les mots then ou thee  (vous devriez en trouver 3)"
   ]
  },
  {
   "cell_type": "markdown",
   "id": "c6f2a2ea-f8d9-4406-878a-0fb94a548ce8",
   "metadata": {},
   "source": [
    "Réponse : ```grep -E \"\\b(then)|(thee)\\b\" some-text.txt```"
   ]
  },
  {
   "cell_type": "markdown",
   "id": "742afc09-5d74-4793-b5d1-bf4d059affc9",
   "metadata": {},
   "source": [
    "#### Ancrage "
   ]
  },
  {
   "cell_type": "markdown",
   "id": "9a772755-12c9-4153-998d-79fe6c2ac4be",
   "metadata": {},
   "source": [
    "Il peut être utile voire indispensable de situer l’expression régulière cherchée par rapport au début et/ou la fin de ligne. On utilise pour cela deux métacaractères: ^ et \\$ :\n",
    "*  ^ désigne le **début** de ligne **s’il est placé au début de l’expression**, sinon c'est le caractère ^\n",
    "*  \\$ désigne la **fin** de ligne **s’il est placé à la fin de l’expression**, sinon c'est le caractère \\$\n",
    "\n",
    "Situer un motif par rapport à un repère de la ligne = **ancrage** (*anchoring*).\n",
    "\n",
    "Exemple:\n",
    "\n",
    "|Motif|Correspondance|\n",
    "|:--|:--|\n",
    "| ^linux | toute ligne commençant strictement par le mot linux|\n",
    "| linux\\$ | toute ligne finissant strictement par le mot linux|\n",
    "| ^linux\\$ | les lignes ne comportant strictement que le mot linux|\n",
    "| \\$linux | toute ligne avec le texte \\$linux quelque part|\n"
   ]
  },
  {
   "cell_type": "markdown",
   "id": "d5af9184-dea4-459b-9fe7-85f70117692c",
   "metadata": {},
   "source": [
    "#### Reference-arriere"
   ]
  },
  {
   "cell_type": "markdown",
   "id": "509c3966-a4bc-4798-aa8e-bebf5c7b1ef7",
   "metadata": {},
   "source": [
    "Nous avons déjà vu que [of]{2} correspond à  oo ou of ou fo ou ff et non seulement oo ou ff. En effet, les répétitions vues jusque là sont des répétitions du motif et non d'une valeur trouvée. Pour retrouver une valeur, on en fera une sous-expression et on utilisera une référence arrière pour y faire référence. Voici comment faire:\n",
    "   * les parenthèses () permettent de grouper des ERA pour délimiter une **sous-expression**.\n",
    "   * la notation **\\\\n** (n étant un digit) est une **référence arrière** (*back-expression*)  à la **n**ième sous-expression trouvée placée entre ()\n",
    "\n",
    "Exemple : testez et comprenez bien l'expression régulière recherchée par ces commandes:"
   ]
  },
  {
   "cell_type": "markdown",
   "id": "583b030a-64ad-472e-919c-be761079eb89",
   "metadata": {},
   "source": [
    "```\n",
    "$ grep -E \"[of]{2}\" some-text.txt\n",
    "$ grep -E \"([of])\\1\" some-text.txt\n",
    "$ grep -E \"([[:punct:]]).*([[:punct:]]).*\\1.*\\2\" some-text.txt \n",
    "$ grep -E \"([A-Z]{2,}).*([eth])+.*\\2.*\\1\" some-text.txt \n",
    "```"
   ]
  },
  {
   "cell_type": "raw",
   "id": "50cff7c2-226e-4426-8869-b4fdda03fcc0",
   "metadata": {},
   "source": [
    "(1) Highlight all words with oo, of, fo, or ff\n",
    "(2) Show all lines and highlight words with strictly \"oo\" or \"ff\"\n",
    "(3) A punctuation followed by n'importe quoi caractere plusieurs fois, then another groupe like that. le \\2 exige que le premier caractère de ponctuation (groupe 1) réapparaisse plus tard dans la ligne, suivi du second caractère (groupe 2). Between these two punctions, n'import quoi can be injected. A matching group is limited in a ().\n",
    "(4) Group 1: Any word that has at least 2 capital letter (here is ARTHUR). Group 2: Any word that has letter 'e', 't', 'h' in that (here is helmet). And the group 2 has to be followed by group 1 and between these two groups, other characters are allowed."
   ]
  },
  {
   "cell_type": "markdown",
   "id": "995c18e3-4c6a-4fd0-9162-1ad9a04ceb21",
   "metadata": {
    "tags": []
   },
   "source": [
    "#### Metacaracteres"
   ]
  },
  {
   "cell_type": "markdown",
   "id": "5129df2c-b102-4586-8435-31b14ad1cd00",
   "metadata": {},
   "source": [
    "On a vu les différentes syntaxes possibles pour former une expression régulière.\n",
    "\n",
    "Voici les métacaractères vus ici :      ```| . * + ? ^ \\$ ( ) [ ] { } \\\\ -```\n",
    "\n",
    "Ils peuvent varier suivant le langage d'expressions régulières.  En ce qui nous concerne, leur comportement est décrit dans la doc de grep. Allez y jeter un coup d'oeil:"
   ]
  },
  {
   "cell_type": "markdown",
   "id": "21b62a48-d4f7-428e-86e9-f187b8edb42c",
   "metadata": {},
   "source": [
    "```$ man grep ```"
   ]
  },
  {
   "cell_type": "markdown",
   "id": "b8784f68-98ff-478e-85d3-4828cbc81e01",
   "metadata": {},
   "source": [
    "et tapez /REGULAR EXPRESSION pour accéder directement à la section qui décrit la syntaxe des regex avec grep."
   ]
  },
  {
   "cell_type": "markdown",
   "id": "b3bea4aa-dd49-469c-a1d1-71076ed3f7e4",
   "metadata": {},
   "source": [
    "### Exercices "
   ]
  },
  {
   "cell_type": "markdown",
   "id": "e98d02f1-8596-4985-85b6-e8e88d4a7cba",
   "metadata": {},
   "source": [
    "#### Exercice-2 \n",
    "\n",
    "En travaillant avec le fichier \"some-text.txt\", écrire la commande grep qui donne :\n",
    "* Toutes les lignes commençant stricyement par une lettre majuscule (pas d'espaces devant) (vous devriez trouver 2 lignes)"
   ]
  },
  {
   "cell_type": "markdown",
   "id": "e69c6d86-8d32-4743-9937-098fc0cbbba6",
   "metadata": {},
   "source": [
    "Réponse :```grep -E \"^\\b[A-Z]{1,}.*\" some-text.txt```"
   ]
  },
  {
   "cell_type": "markdown",
   "id": "52e9073a-86cc-4d6a-968c-aaf3cfdce04b",
   "metadata": {},
   "source": [
    "* Toutes les lignes commençant par une lettre majuscule avec potentiellement des espaces devant et finissant par un point (vous devriez trouver 29 lignes)"
   ]
  },
  {
   "cell_type": "markdown",
   "id": "0552f222-8742-4652-8cb4-9e982f2fcf43",
   "metadata": {},
   "source": [
    "Réponse : ```grep -E \"^[[:space:]]*[A-Z].*\\.$\" some-text.txt -c```"
   ]
  },
  {
   "cell_type": "markdown",
   "id": "00c90855-5afe-4e34-8118-84b3ed9ae12a",
   "metadata": {},
   "source": [
    "* Toutes les lignes contenant deux fois le texte \"you\" (il n'y en a qu'une)"
   ]
  },
  {
   "cell_type": "markdown",
   "id": "6508b183-ad5d-4078-8702-af4fe47ddd17",
   "metadata": {},
   "source": [
    "Réponse : ```grep -E \"(you).*\\1\" some-text.txt```"
   ]
  },
  {
   "cell_type": "markdown",
   "id": "fdcabe41-689e-4abd-a5de-922bb3619258",
   "metadata": {},
   "source": [
    "* Toutes les lignes contenant un mot répété deux fois avec la même casse (vous devriez trouver 7 lignes)"
   ]
  },
  {
   "cell_type": "markdown",
   "id": "b2e52f39-93ae-4cbb-b35f-26695481ec18",
   "metadata": {},
   "source": [
    "Réponse : `grep -E \"(\\b\\w+\\b).*\\b\\1\\b\" some-text.txt`"
   ]
  },
  {
   "cell_type": "markdown",
   "id": "31e138b9-dcd9-46e5-b3d3-924e227610fa",
   "metadata": {},
   "source": [
    "* **(Difficulté ++ : à ne faire que s'il vous reste au moins 1h, skip it otherwise)** Les mots répétés deux fois sur la même ligne (seulement les mots) sans doublons. Il y en a 6  et il faut enchainer 3 grep pour y arriver:  (mode EXPERT)\n",
    "    * le 1er est celui de la question précédente avec l'option -o pour obtenir les occurences\n",
    "    * le 2eme pour récuper le premier mot avec l'espace devant éventuellement\n",
    "    * le 3eme pour récuperer le mot sans l'espace\n",
    "    * puis sort et uniq pour supprimer les doublons"
   ]
  },
  {
   "cell_type": "markdown",
   "id": "5aa44485-7f77-4f20-ae29-bf1c4bb3881b",
   "metadata": {},
   "source": [
    "Réponse : "
   ]
  },
  {
   "cell_type": "markdown",
   "id": "c6c747c2-cecb-4aa1-a67c-82bb445aca3e",
   "metadata": {},
   "source": [
    "#### Exercice-3\n",
    "On va travailler avec un fichier de config classique sous Linux : /etc/passwd. Il contient les informations sur les utilisateurs. Chaque ligne a 7 champs delimités par le caractère : sous le format suivant"
   ]
  },
  {
   "cell_type": "markdown",
   "id": "1f15d7f6-89b4-48c5-868f-79c88b0b26b5",
   "metadata": {},
   "source": [
    "```login:password information:uid:gid:user description:home directory:login shell```"
   ]
  },
  {
   "cell_type": "markdown",
   "id": "5fb661f6-8673-4283-957f-c8be82d98cfe",
   "metadata": {},
   "source": [
    "Le champ \"user description\" peut lui-même contenir des champs (numéro de tel, adresse,...) séparés par le caractère ,\n",
    "\n",
    "Vous pouvez jeter un coup d'oeil à celui de votre session:"
   ]
  },
  {
   "cell_type": "markdown",
   "id": "d2d452b2-f84b-4c4c-b347-e114aa64ac38",
   "metadata": {},
   "source": [
    "```\n",
    "$ cat /etc/passwd\n",
    "```"
   ]
  },
  {
   "cell_type": "markdown",
   "id": "9915ccab-686a-4340-92ec-510b50e611be",
   "metadata": {},
   "source": [
    "Au lieu de travailler sur un fichier admin, un fichier de même type vous est fourni dans le répertoire courant : le fichier \"passwd\".\n",
    "\n",
    "Vous pouvez vérifier son contenu:"
   ]
  },
  {
   "cell_type": "markdown",
   "id": "0cc07c49-cbba-4f9c-b7ba-4e938cbed7e9",
   "metadata": {},
   "source": [
    "```\n",
    "$ cat passwd\n",
    "```"
   ]
  },
  {
   "cell_type": "markdown",
   "id": "9eb9c148-c281-4299-9271-10b391e7e647",
   "metadata": {},
   "source": [
    "Vous devriez obtenir:"
   ]
  },
  {
   "cell_type": "markdown",
   "id": "2c02339e-5275-4a3c-9ecb-af676ce4ce0b",
   "metadata": {},
   "source": [
    "```\n",
    "root:x:0:0:root:/root:/bin/bash\n",
    "daemon:x:1:1:daemon:/usr/sbin:/usr/sbin/nologin\n",
    "bin:x:2:2:bin:/bin:/usr/sbin/nologin\n",
    "sys:x:3:3:sys:/dev:/usr/sbin/nologin\n",
    "sync:x:4:65534:sync:/bin:/bin/sync\n",
    "games:x:5:60:games:/usr/games:/usr/sbin/nologin\n",
    "man:x:6:12:man:/var/cache/man:/usr/sbin/nologin\n",
    "lp:x:7:7:lp:/var/spool/lpd:/usr/sbin/nologin\n",
    "mail:x:8:8:mail:/var/mail:/usr/sbin/nologin\n",
    "slaurel:x:1001:5000:stan laurel,stan.laurel@film.org, binome de oliver hardy:/home/slaurel:/bin/bash\n",
    "ohardy:x:1002:5000:oliver hardy,oliver.hardy@film.org, binome de stan laurel:/home/ohardy:/bin/bash\n",
    "cchaplin:x:1004:5001: charlie chaplin, homeless @Hollywood:/home/guest:/bin/bash\n",
    "bkeaton:x:1005:5002:do some charlie chaplin bashing:/home/bkeaton:/usr/sbin/nologin \n",
    "slaureline:x:1006:0:looking for valerian at 65534 Mulholland Drive:/home/slaureline:/usr/sbin/nologin\n",
    "nobody:x:65534:65534:nobody,no /home:/nonexistent:/usr/sbin/nologin\n",
    "```"
   ]
  },
  {
   "cell_type": "markdown",
   "id": "f49c9a62-a7e6-4c20-a877-2616b48ecda2",
   "metadata": {},
   "source": [
    "* toutes les lignes avec une adresse email"
   ]
  },
  {
   "cell_type": "markdown",
   "id": "c70c1a84-ecb3-44ed-a096-1acc209574f6",
   "metadata": {},
   "source": [
    "Réponse : `grep -E \"\\b[a-zA-Z0-9._%+-]+\\@[a-z]+\\.[a-z]+(\\.[a-z]+)*\\b\" passwd`"
   ]
  },
  {
   "cell_type": "markdown",
   "id": "48469587-0fa1-4048-bfb2-0f5e013ecec7",
   "metadata": {},
   "source": [
    "* toutes les adresses email uniquement"
   ]
  },
  {
   "cell_type": "markdown",
   "id": "1c6df89d-a4fe-4078-95b8-8f203727a348",
   "metadata": {},
   "source": [
    "Réponse : `grep -E -o \"\\b[a-zA-Z0-9._%+-]+\\@[a-z]+\\.[a-z]+(\\.[a-z]+)*\\b\" passwd`"
   ]
  },
  {
   "cell_type": "markdown",
   "id": "d44502d8-aeb4-4e37-a80a-8dec38b90f7f",
   "metadata": {},
   "source": [
    "* toutes les lignes dont le login est strictement slaurel (une seule normalement)"
   ]
  },
  {
   "cell_type": "markdown",
   "id": "11328109-d1e7-4924-a949-3ebd4ee4a0f6",
   "metadata": {},
   "source": [
    "Réponse : `grep -E \"\\bslaurel\\b\" passwd`"
   ]
  },
  {
   "cell_type": "markdown",
   "id": "dc81b8ef-f853-4aed-9995-39ab1e74dde8",
   "metadata": {},
   "source": [
    "* toutes les lignes où l'uid contient le digit 0 (6 normalement)"
   ]
  },
  {
   "cell_type": "markdown",
   "id": "2ee882dd-326e-434a-a9ce-53212d8d60e3",
   "metadata": {},
   "source": [
    "Réponse :`grep -E \"^[a-z]*\\:[a-z]+\\:[0-9]*[0]\" passwd`\n"
   ]
  },
  {
   "cell_type": "markdown",
   "id": "7662f42f-783d-480d-b911-e484cd70c877",
   "metadata": {},
   "source": [
    "* toutes les lignes où l'uid vaut 0 (une seule normalement)"
   ]
  },
  {
   "cell_type": "markdown",
   "id": "3d3bf391-7423-40a2-bd37-67df70795dc7",
   "metadata": {},
   "source": [
    "Réponse :"
   ]
  },
  {
   "cell_type": "markdown",
   "id": "3ce8c015-8482-4c3d-b1c7-15f29a2d8946",
   "metadata": {},
   "source": [
    "* le login du user dont l'uid vaut 0 (root normalement)"
   ]
  },
  {
   "cell_type": "markdown",
   "id": "59f48f22-3731-4e94-b4f6-89f6748fd42d",
   "metadata": {},
   "source": [
    "Réponse :"
   ]
  },
  {
   "cell_type": "markdown",
   "id": "de1b4536-fb4a-4580-b5fd-2356221b86de",
   "metadata": {},
   "source": [
    "* toutes les lignes où le gid vaut 65534 (2 normalement)"
   ]
  },
  {
   "cell_type": "markdown",
   "id": "6da346b8-b2bb-4fe8-81a5-fc5e4cd3906e",
   "metadata": {},
   "source": [
    "Réponse : "
   ]
  },
  {
   "cell_type": "markdown",
   "id": "09a8ed8e-b432-42a4-829d-8c64d25fb4f5",
   "metadata": {},
   "source": [
    "* toutes les lignes où le login shell est bash (4 normalement)"
   ]
  },
  {
   "cell_type": "markdown",
   "id": "2b18378d-6b4b-4949-aced-532ebbd57782",
   "metadata": {},
   "source": [
    "Réponse :"
   ]
  },
  {
   "cell_type": "markdown",
   "id": "9a52e7f3-7d54-4dc2-8451-48f84d780f59",
   "metadata": {},
   "source": [
    "* toutes les lignes où le home directory est /usr/sbin (1 seule normalement)"
   ]
  },
  {
   "cell_type": "markdown",
   "id": "7aa05dcb-667f-4e3c-988b-9a54f2160ad9",
   "metadata": {},
   "source": [
    "Réponse : "
   ]
  },
  {
   "cell_type": "markdown",
   "id": "3f8aaf21-a63e-4147-bd48-3312879193c4",
   "metadata": {},
   "source": [
    "* toutes les lignes où le login fait exactement 4 lettres (3 normalement)"
   ]
  },
  {
   "cell_type": "markdown",
   "id": "f215a20f-b952-4ae1-bbcb-841b2c19bd24",
   "metadata": {},
   "source": [
    "Réponse : "
   ]
  },
  {
   "cell_type": "markdown",
   "id": "91329040-b096-441d-97e9-f752a2dc5bd0",
   "metadata": {},
   "source": [
    "* toutes les lignes où le login fait au moins 4 lettres (11 normalement)"
   ]
  },
  {
   "cell_type": "markdown",
   "id": "d3ace20d-294b-4255-84cb-ebe0f1c4da64",
   "metadata": {},
   "source": [
    "Réponse : "
   ]
  },
  {
   "cell_type": "markdown",
   "id": "77ae4f49-ba00-4b62-aea1-13bcfca5bb46",
   "metadata": {},
   "source": [
    "* toutes les lignes où le home directory est dans /home (5 lignes normalement)"
   ]
  },
  {
   "cell_type": "markdown",
   "id": "7ec16297-8072-4ac4-9fe7-d7ce6d09f737",
   "metadata": {},
   "source": [
    "Réponse : "
   ]
  },
  {
   "cell_type": "markdown",
   "id": "ac336212-084d-4226-8833-116ce895ff78",
   "metadata": {
    "tags": []
   },
   "source": [
    "## Autres-commandes-utiles  "
   ]
  },
  {
   "cell_type": "markdown",
   "id": "266e5813-1b62-4c0c-8852-cf1b2d16ba1c",
   "metadata": {
    "tags": []
   },
   "source": [
    "L'efficacité et l'utilité du grep est la plupart du temps multipliée quand cette comande est utilisée avec d'autres commandes: ls, cut, sort, uniq, find.\n",
    "\n",
    "Nous allons faire un petit tour de cas d'usage qu'il faut savoir maîtriser.\n",
    "\n",
    "### ls"
   ]
  },
  {
   "cell_type": "markdown",
   "id": "02db4e0a-272f-40a8-92d0-a702e69cc60e",
   "metadata": {
    "jp-MarkdownHeadingCollapsed": true,
    "tags": []
   },
   "source": [
    "On a vu en cours que l'on pouvait chercher avec ls et le globbing des entrées avec un nom générique:"
   ]
  },
  {
   "cell_type": "markdown",
   "id": "b60b0289-090b-47fe-bb47-0b1a168b3bcc",
   "metadata": {},
   "source": [
    "``` $ ls *.pdf     # permet de chercher toutes les entrées finissant par l'extension pdf ```"
   ]
  },
  {
   "cell_type": "markdown",
   "id": "ff181e9e-762f-449a-8b8f-9480fc7b6f64",
   "metadata": {
    "jp-MarkdownHeadingCollapsed": true,
    "tags": []
   },
   "source": [
    "Première remarque : attention, derrière toute autre commande que grep, les métacaractères sont utilisés pour du globbing (extension de paramètres) et donc les significations des métacaractères est différente. Exemple de différences:\n",
    "\n",
    "| Caractère | Globbing | Expressions régulières |\n",
    "|:--|:--|:--|\n",
    "|. | Caractère ASCII '.'|N'importe quel caractère. | \n",
    "| * | Toute chaîne, éventuellement vide | Répétition de 0 ou + ce qui précède|"
   ]
  },
  {
   "cell_type": "markdown",
   "id": "2251659e-a4f9-4a6b-b273-35bcdaab0fc2",
   "metadata": {
    "jp-MarkdownHeadingCollapsed": true,
    "tags": []
   },
   "source": [
    "On peut combiner ls et grep pour faire étendre les possibilités de recherche, notament sur les détails d'une sortie d'un ls -l. Par exemple, ne garder que la liste des entrées qui sont des fichiers :"
   ]
  },
  {
   "cell_type": "markdown",
   "id": "251b261d-f1a1-49f5-ada7-ad0ee41633a5",
   "metadata": {},
   "source": [
    "```\n",
    "$ ls -l | grep -E \"^-\"\n",
    "```"
   ]
  },
  {
   "cell_type": "markdown",
   "id": "036aadf5-93c9-426f-9479-d2e2a643aa0b",
   "metadata": {
    "tags": []
   },
   "source": [
    "### cut "
   ]
  },
  {
   "cell_type": "markdown",
   "id": "a6c10b8c-e4cf-4725-ad4f-30b17b29b022",
   "metadata": {
    "tags": []
   },
   "source": [
    "Le fichier \"passwd\" vu précédemment a un format de ligne où chaque champ est séparé par un caractère défini, ici ':'. Ce caractère est appelé le \"séparateur\".\n",
    "C'est le cas des fichiers .cvs où les valeurs de chaque colonne sont séparés par des ';' ou des ','.\n",
    "Chercher un champ dans ce genre de ligne peut se faire avec grep, comme vous avez du le faire dans l'exercice sur le fichier passwd. Par exemple, pour filtrer le champ sur les informations sur le mot de passe, on peut écrire:"
   ]
  },
  {
   "cell_type": "markdown",
   "id": "ebc5798d-60b5-4010-84e8-8578d2891ecb",
   "metadata": {
    "tags": []
   },
   "source": [
    "``` $ grep -E -o \"^[^:]+:[^:]+:\" passwd | grep -oE \"[^:]+:$\" | grep -oE \"[^:]+\"```"
   ]
  },
  {
   "cell_type": "markdown",
   "id": "311b02b7-d59d-41df-955a-2ffeda4a1004",
   "metadata": {
    "tags": []
   },
   "source": [
    "Il faut savoir le faire mais aussi savoir qu'il existe une commande **cut**  qui permet d'extraire automatiquement des parties de ce genre de texte (appelés sections dans la doc de **cut(1)**).\n",
    "\n",
    "Par exemple, pour aller chercher les gid, on ira cherche le 4eme champ, en indiquant que le caractère séparateur de champ est ':'"
   ]
  },
  {
   "cell_type": "markdown",
   "id": "642fdc5c-a316-464b-9b86-2e333a8b29b5",
   "metadata": {
    "tags": []
   },
   "source": [
    "```\n",
    "$ cat passwd | cut -f 4 -d :```"
   ]
  },
  {
   "cell_type": "markdown",
   "id": "e4a9da3f-faad-43cd-87e3-38140f7bb62c",
   "metadata": {
    "tags": []
   },
   "source": [
    "Cela suppose ques informations recherchées sont à une place bien définie. Par exemple, on peut aller chercher la description des utilisateurs"
   ]
  },
  {
   "cell_type": "markdown",
   "id": "4d024144-3e00-4c3b-b4c9-1d4e93ac3a8f",
   "metadata": {
    "tags": []
   },
   "source": [
    "``` $ cat passwd | cut -f 5 -d :```"
   ]
  },
  {
   "cell_type": "markdown",
   "id": "0a9f8f22-9ae8-4c2c-a988-e50b4249eb77",
   "metadata": {
    "tags": []
   },
   "source": [
    "Puis chercher le 2eme sous-champ de ce champ:"
   ]
  },
  {
   "cell_type": "markdown",
   "id": "db0bec24-8202-4547-b2dd-df5c5460b0f5",
   "metadata": {
    "tags": []
   },
   "source": [
    "``` $ cat passwd | cut -f 5 -d : | cut -f 2 -d ,```"
   ]
  },
  {
   "cell_type": "markdown",
   "id": "e772f7ab-5e6f-43f2-be55-f3f7d1dd98d3",
   "metadata": {
    "tags": []
   },
   "source": [
    "Cependant, ces sous-champs ne sont pas ordonnés, donc pour chercher une adresse mail, on est obligé de chercher avec grep:"
   ]
  },
  {
   "cell_type": "markdown",
   "id": "58b05f68-ec00-4b0d-a32e-0141676f1697",
   "metadata": {
    "tags": []
   },
   "source": [
    "``` $ cat passwd | cut -f 5 -d : | grep -oE \"[^@[:space]]+@[^@[:space]]+\\.[^@[:space]]+\" ```"
   ]
  },
  {
   "cell_type": "markdown",
   "id": "f0d93a79-6b39-41ea-913e-c16485f8612f",
   "metadata": {
    "tags": []
   },
   "source": [
    "Notez que cut pourrait être utile pour filtrer une sortie de ls -l en prenant l'espace comme séparateur, par exemple ici pour récuperer les usernames des propriétaires des entrées:"
   ]
  },
  {
   "cell_type": "markdown",
   "id": "143278a0-026a-4e06-a62b-68bc5a6d0530",
   "metadata": {
    "tags": []
   },
   "source": [
    "``` $ ls -al | cut -f 3 -d ' ' ```"
   ]
  },
  {
   "cell_type": "markdown",
   "id": "83d76ee6-ea2f-4436-b9ce-443b8734b71c",
   "metadata": {
    "tags": []
   },
   "source": [
    "Cependant, pour respecter l'alignement à l'affichage, il y a parfois plusieurs espaces, ce qui en fait une fausse bonne idée. Cela est encore plus visible sur la racine :"
   ]
  },
  {
   "cell_type": "markdown",
   "id": "a84687b0-4704-4e81-8bd4-84684c07c3eb",
   "metadata": {
    "tags": []
   },
   "source": [
    "``` $ ls -al / | cut -f 3 -d ' ```"
   ]
  },
  {
   "cell_type": "markdown",
   "id": "58ddffff-7c2f-4d7c-859f-6405aafdbecc",
   "metadata": {
    "tags": []
   },
   "source": [
    "Pour récupérer le nom des propriétaires des entrées, il faudrait combiner un ls -l et un grep"
   ]
  },
  {
   "cell_type": "markdown",
   "id": "e20fd8db-9535-438e-92be-18a971a2a4f9",
   "metadata": {
    "tags": []
   },
   "source": [
    "``` $ ls -al | grep -oE \"^[^[:space:]]+[[:space:]]+[^[:space:]]+[[:space:]]+[^[:space:]]+\" |grep -oE \"[^[:space:]]+$\" ```"
   ]
  },
  {
   "cell_type": "markdown",
   "id": "3dc2b237-bfb7-4b62-aaa6-10749e26a216",
   "metadata": {
    "tags": []
   },
   "source": [
    "### sort-uniq "
   ]
  },
  {
   "cell_type": "markdown",
   "id": "7a199b2c-060d-4454-8c5f-e6f6f85cac19",
   "metadata": {
    "tags": []
   },
   "source": [
    "Lorque l'on va chercher les valeurs d'un champ dans un fichier, on veut parfois trier et éliminer les doublons de la sortie. Il y a pour cela respectivement les commandes **sort(1)** et **uniq(1)**.\n",
    "\n",
    "Par exemple, la liste des propriétaires d'entrées sur le répertoire home de l'utilisateur :"
   ]
  },
  {
   "cell_type": "markdown",
   "id": "632f61d6-d89d-4362-a05e-9e41b72bfbbe",
   "metadata": {
    "tags": []
   },
   "source": [
    "``` $ ls -al ~ | grep -oE \"^[^[:space:]]+[[:space:]]+[^[:space:]]+[[:space:]]+[^[:space:]]+\" |grep -oE \"[^[:space:]]+$\" | sort | uniq ```"
   ]
  },
  {
   "cell_type": "markdown",
   "id": "219ba323-12ad-4a4b-a769-3e4780b1ebc9",
   "metadata": {
    "tags": []
   },
   "source": [
    "### find "
   ]
  },
  {
   "cell_type": "markdown",
   "id": "6ba1135a-89fe-49c2-945b-723db42aa710",
   "metadata": {
    "tags": []
   },
   "source": [
    "On a vu quelques exemples précédement où ls et grep sont combinés pour faire une recherche de fichier. Encor eune fois, c'est bien de savoir le faire mais il faut savoir qu'il existe une commande de recherche d'entrée puissante : **find(1)**. Elle a des très nombreuses options de recherche et permet également d'appliquer un traitement sur les entrées trouvées."
   ]
  },
  {
   "cell_type": "markdown",
   "id": "434a43e5-66e3-49e3-863f-26c3771fbe0e",
   "metadata": {
    "tags": []
   },
   "source": [
    "#### Quelques options de recherche de find"
   ]
  },
  {
   "cell_type": "markdown",
   "id": "bf699e32-97c6-47d5-9a85-1b305f48c511",
   "metadata": {
    "tags": []
   },
   "source": [
    "La recherche est récursive. Les options de recherche peuvent se cumuler:\n",
    "\n",
    "* recherche sur le nom\n",
    "    * globbing possible"
   ]
  },
  {
   "cell_type": "markdown",
   "id": "086d2d48-c25b-4170-b422-817334b3dccb",
   "metadata": {
    "tags": []
   },
   "source": [
    "``` $  find <repertoireDeDepart> -name \"entryname\" -print ```\n",
    "\n",
    "``` $  find /usr/include -name \"glob*\" -print ```"
   ]
  },
  {
   "cell_type": "markdown",
   "id": "b45b63f6-a86b-4a0a-924c-cb0474f74b0b",
   "metadata": {
    "tags": []
   },
   "source": [
    "* recherche par type d'entrée"
   ]
  },
  {
   "cell_type": "markdown",
   "id": "68bb1f3a-a47b-4ada-82ad-227fdb537392",
   "metadata": {
    "tags": []
   },
   "source": [
    "``` $ find /usr/include –type f -name «*conf*» -print ```\n",
    "\n",
    "``` $ find /usr/include –type d -name «*conf*» -print ```"
   ]
  },
  {
   "cell_type": "markdown",
   "id": "e80c0563-4a34-4e6e-bd11-774da739c7b7",
   "metadata": {
    "tags": []
   },
   "source": [
    "* recherche par la taille"
   ]
  },
  {
   "cell_type": "markdown",
   "id": "42bfb561-3bf1-4c92-8cfc-a97a05e2f8af",
   "metadata": {
    "tags": []
   },
   "source": [
    "``` $ find /usr/bin –size +10M ```\n",
    "\n",
    "``` $ find /usr/bin –size +10M –size -40M ```"
   ]
  },
  {
   "cell_type": "markdown",
   "id": "27440c60-c85e-4d4a-a6e1-856aa1463177",
   "metadata": {
    "tags": []
   },
   "source": [
    "* recherche par la date : -atime, -ctime -mtime"
   ]
  },
  {
   "cell_type": "markdown",
   "id": "1a0308b6-b7c4-4064-8b6f-3448e5340e20",
   "metadata": {
    "tags": []
   },
   "source": [
    "``` $ find /var/log –atime -1``` \n",
    "\n",
    "``` $ find /var/log –atime +90``` \n",
    "\n",
    "``` $ find /var/log –atime 30``` "
   ]
  },
  {
   "cell_type": "markdown",
   "id": "61bd3a8d-f18e-4432-967d-21be0b30b6a2",
   "metadata": {
    "tags": []
   },
   "source": [
    "* recherche par l'utilisateur, le groupe"
   ]
  },
  {
   "cell_type": "markdown",
   "id": "736735d6-c810-407f-9e0a-4ad64f8dac7b",
   "metadata": {
    "tags": []
   },
   "source": [
    "``` $ find /tmp –user eii ```\n",
    "\n",
    "``` $ find /tmp –uid 1000 ```\n",
    "\n",
    "``` $ find /tmp –group eii ```\n",
    "\n",
    "``` $ find /tmp –gid 5000 ```"
   ]
  },
  {
   "cell_type": "markdown",
   "id": "fbb0142d-98c6-4a53-bf8d-ab499ddf3e36",
   "metadata": {
    "tags": []
   },
   "source": [
    "* test si entrée vide"
   ]
  },
  {
   "cell_type": "markdown",
   "id": "c8916375-32de-45c3-a06f-3e5be0df3aea",
   "metadata": {
    "tags": []
   },
   "source": [
    "```\n",
    "$ find /tmp -empty ```"
   ]
  },
  {
   "cell_type": "markdown",
   "id": "2e497a52-7e50-4ee8-8f72-577d3b8c861d",
   "metadata": {
    "tags": []
   },
   "source": [
    "* recherche en fonction des permissions"
   ]
  },
  {
   "cell_type": "markdown",
   "id": "aea456e5-98c2-4da4-b54c-61f1e73d92a9",
   "metadata": {
    "tags": []
   },
   "source": [
    "``` $ find . –type f –perm 777 –print ```\n",
    "\n",
    "``` $ find . -type f ! –perm 777 -print ```"
   ]
  },
  {
   "cell_type": "markdown",
   "id": "3179d5c2-cf1c-4784-8c5b-3df2a0b839d4",
   "metadata": {
    "tags": []
   },
   "source": [
    "#### Appliquer un traitement aux entrées trouvées \n",
    "\n",
    "Remplacer -print par -exec commande\n",
    "   * {} identifie l’entrée trouvée pour la passer en paramètre de la commande\n",
    "   * fin de la commande par \\;"
   ]
  },
  {
   "cell_type": "markdown",
   "id": "45994d07-1e07-4f61-8524-c83bbf5b8ce2",
   "metadata": {
    "tags": []
   },
   "source": [
    "``` $ find / -uid 1000 –exec chown eii {}\\;                       #cherche à partir de la racine les entrées dont le propriétaire a l'iud 1000 pour en transférer la propriété à l'utilisateur eii ```\n",
    "\n",
    "``` $ find /tmp –type f –name « *.test » -exec rm –i {}           # cherche les fichiers finissant par l'extension \".test\" pour les supprimer. l'option de rm -i est utile comme protection dans ce cas-là ```\n",
    "\n",
    "``` $ find . –name « *.c » -exec grep ‘#include’ {} \\;            # cherche à partir du répertoire courant toutes les lignes d'include dans les fichiers sources .c```\n",
    "\n"
   ]
  },
  {
   "cell_type": "markdown",
   "id": "5408920b-3b86-4cff-b4d8-90049f54689b",
   "metadata": {},
   "source": [
    "## Perspectives"
   ]
  },
  {
   "cell_type": "markdown",
   "id": "0ca22f1f-981d-4c90-96a9-288f2f0d5a63",
   "metadata": {},
   "source": [
    "Il existe d'autres outils ou langages pour exploiter les expressions régulières:\n",
    "\n",
    "* sed(1) : stream editor :\n",
    "    * Cherche un motif et **modifie** le flux associé efficacement\n",
    "    * Encore plus puissant mais pas intuitif au premier abord"
   ]
  },
  {
   "cell_type": "markdown",
   "id": "4627d8a5-8ed7-45c3-ad46-9dc3ba2b39ec",
   "metadata": {},
   "source": [
    "``` $ sed ‘/^#/d’ test.txt             #grep -E \"^[^#]\" test.txt```\n",
    "\n",
    "``` $ sed –n ‘/^#/p’ test.txt          #grep -E \"^#\" test.txt```\n",
    "\n",
    "``` $ sed ‘s/Hellco/HELLO/’ test.txt    #remplace Hello par HELLO :pas d’équivalence avec grep/egrep qui ne peut pas modifier/traiter le motif trouvé```\n",
    "\n",
    "``` $ sed –z ‘s/\\n/ /g’ test.txt       #pas d’équivalence, même raison```\n",
    "\n",
    "``` $ for f in *.mp4;do fn=`echo $f|sed ‘s/-/_/g’`; mv « $f » « $fn »; done```\n",
    "\n"
   ]
  },
  {
   "cell_type": "markdown",
   "id": "a458cbd5-fa81-446e-883c-7582eefbe135",
   "metadata": {},
   "source": [
    "* awk(1) : analyse de motifs et traitement de texte\n",
    "\n",
    "* python : voir : https://docs.python.org/fr/3/howto/regex.html: vous en ferez en 4EII\n",
    "\n",
    "* Bonnes pratiques sur les expressions régulières, voir l'introduction de [https://blog.stephane-robert.info/docs/developper/expressions-regulieres/](#https://blog.stephane-robert.info/docs/developper/expressions-regulieres/)"
   ]
  },
  {
   "cell_type": "markdown",
   "id": "b87c3644-1285-446a-a7ca-ed2bc707ed8b",
   "metadata": {},
   "source": [
    "\n",
    "---------------------------\n",
    "License for the whole document : CC-BY-NC-ND (mpressig@insa-rennes.fr)"
   ]
  },
  {
   "cell_type": "code",
   "execution_count": null,
   "id": "513bffa0-3de5-4e65-918e-59ff64e4e03a",
   "metadata": {},
   "outputs": [],
   "source": []
  }
 ],
 "metadata": {
  "kernelspec": {
   "display_name": "Python 3 (ipykernel)",
   "language": "python",
   "name": "python3"
  },
  "language_info": {
   "codemirror_mode": {
    "name": "ipython",
    "version": 3
   },
   "file_extension": ".py",
   "mimetype": "text/x-python",
   "name": "python",
   "nbconvert_exporter": "python",
   "pygments_lexer": "ipython3",
   "version": "3.13.0"
  }
 },
 "nbformat": 4,
 "nbformat_minor": 5
}
